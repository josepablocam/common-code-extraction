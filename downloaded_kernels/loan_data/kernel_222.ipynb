{"cells":[
 {
  "cell_type": "markdown",
  "metadata": {},
  "source": "#Looking into Loans by State\nI stole this notebook from **[Omar Peña](https://www.kaggle.com/greyfaux)** and I wanted to adapt it to questions about my state of WA."
 },
 {
  "cell_type": "code",
  "execution_count": null,
  "metadata": {
   "collapsed": false
  },
  "outputs": [],
  "source": "import numpy as np\nimport pandas as pd \nimport matplotlib.mlab as mlab\nimport matplotlib.pyplot as plt\n%matplotlib inline\n\nfrom matplotlib import style\nplt.style.use('ggplot')"
 },
 {
  "cell_type": "code",
  "execution_count": null,
  "metadata": {
   "collapsed": false
  },
  "outputs": [],
  "source": "data = pd.read_csv('../input/loan.csv', low_memory=False)"
 },
 {
  "cell_type": "code",
  "execution_count": null,
  "metadata": {
   "collapsed": false
  },
  "outputs": [],
  "source": "state_count = data.addr_state.value_counts()\n\nstate_count.plot(kind = 'bar',figsize=(16,8), title = 'Loans per State')"
 },
 {
  "cell_type": "code",
  "execution_count": null,
  "metadata": {
   "collapsed": false
  },
  "outputs": [],
  "source": "wa_data = data.loc[data.addr_state == 'WA']\n\nwa_x = range(1, 19435)\n\nwa_loan_amnt = wa_data.loan_amnt"
 },
 {
  "cell_type": "code",
  "execution_count": null,
  "metadata": {
   "collapsed": false
  },
  "outputs": [],
  "source": "plt.figure(figsize=(16, 10))\nplt.scatter(wa_x, wa_loan_amnt)\n\nplt.xlim(1,12888)\nplt.ylim(0, 37500)\n\nplt.ylabel(\"Loan Amount\")\nplt.title(\"Loan Size in Washington\")\n\nplt.show()"
 },
 {
  "cell_type": "code",
  "execution_count": null,
  "metadata": {
   "collapsed": false
  },
  "outputs": [],
  "source": "wa_loan_amnt.describe()"
 },
 {
  "cell_type": "code",
  "execution_count": null,
  "metadata": {
   "collapsed": false
  },
  "outputs": [],
  "source": "plt.figure(figsize=(16,8))\n\nmu = 14885.040393\nsigma = 8493.736887\nnum_bins = 300\n\nn, bins, patches = plt.hist(wa_loan_amnt, num_bins, normed=1, facecolor='blue', alpha=0.7)\ny = mlab.normpdf(bins, mu, sigma)\nplt.plot(bins, y, 'r--')\n\nplt.xlabel(\"Loan Amount\")\nplt.title(\"Loan Amount Distribution in Washington\")\nplt.show()"
 }
],"metadata":{"kernelspec":{"display_name":"Python 3","language":"python","name":"python3"}}, "nbformat": 4, "nbformat_minor": 0}
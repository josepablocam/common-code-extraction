{"cells":[
 {
  "cell_type": "markdown",
  "metadata": {},
  "source": "It's believed that the US education is more liberal and active compared with that in east Asian, like China, \nJapan or south Korea, that the education is more driving and effective. To compare this difference I choose 'income' to \nquantitatively measure the education though 'income' here is for university, not for students, but the consistency \nis soon established if you think the university is composed of those who graduated under this education system (ignore\nthe immigrants from other education tradition). "
 },
 {
  "cell_type": "code",
  "execution_count": null,
  "metadata": {
   "collapsed": false
  },
  "outputs": [],
  "source": "%matplotlib inline\nimport pandas as pd\nimport numpy as np\nfrom matplotlib import pyplot as plt\nimport scipy.stats\nfrom matplotlib.patches import Polygon\n#from fitter import Fitter (Hope Kaggle will load this package)"
 },
 {
  "cell_type": "code",
  "execution_count": null,
  "metadata": {
   "collapsed": false
  },
  "outputs": [],
  "source": "df = pd.read_csv('../input/timesData.csv')\n#select US data to compare with east Asia (China, Japan and south Korea)\nmask_us = df.country =='United States of America' \nmask_cn = df.country =='China'\nmask_jp = df.country == 'Japan'\nmask_sk = df.country == 'South Korea'\nUS = df[mask_us]\nCN = df[mask_cn]\nJP = df[mask_jp]\nSK = df[mask_sk]\n#remove those universities that have no income data provided\nUSI=US.income.convert_objects(convert_numeric=True).dropna()\nCNI=CN.income.convert_objects(convert_numeric=True).dropna()\nJPI=JP.income.convert_objects(convert_numeric=True).dropna()\nSKI=SK.income.convert_objects(convert_numeric=True).dropna()"
 },
 {
  "cell_type": "code",
  "execution_count": null,
  "metadata": {
   "collapsed": false
  },
  "outputs": [],
  "source": "#compare the dataset\nax=plt.subplot(2,2,1)\nUSI.plot(kind='hist',normed=True,figsize=(16,8))\nnum=len(USI)\nplt.text(65, 0.025, 'US: %s' %num,fontsize=24)\nax.set_xlabel('income')\nax.set_xticks([20,40,60,80,100])\n\nax=plt.subplot(2,2,2)\nCNI.plot(kind='hist',normed=True)\nnum=len(CNI)\nplt.text(58, 0.03, 'CHINA: %s' %num,fontsize=24)\nax.set_xlabel('income')\nax.set_xticks([20,40,60,80,100])\n\nax=plt.subplot(2,2,3)\nJPI.plot(kind='hist',normed=True)\nnum=len(JPI)\nplt.text(55, 0.025, 'JAPAN: %s' %num,fontsize=24)\nax.set_xlabel('income')\nax.set_xticks([20,40,60,80,100])\n\nax=plt.subplot(2,2,4)\nSKI.plot(kind='hist',normed=True)\nnum=len(SKI)\nplt.text(50, 0.03, 'S KOREA: %s' %num,fontsize=24)\nax.set_xlabel('income')\nax.set_xticks([20,40,60,80,100])\nplt.tight_layout()"
 },
 {
  "cell_type": "code",
  "execution_count": null,
  "metadata": {
   "collapsed": false
  },
  "outputs": [],
  "source": "\"\"\"\nIt looks the data from China and Korea are limited and the distribution behave differently,\nso I only choose Japan data to compare US data.\nBecause Kaggle not support fitter, so I comment the following several cells. \nFrom sum of squared error, both US and Japan dataset are best fitted by Johnsonsu \nand the parameters are copied here.\n\nf_us = Fitter(USI)\nf_us.fit()\nf_us.summary()\nf_jp = Fitter(JPI)\nf_jp.fit()\nf_jp.summary()\nparam_us = f_us.fitted_param['johnsonsu']\nparam_jp = f_jp.fitted_param['johnsonsu']\n\"\"\"\nparam_us = (-2.1117529222445617, 1.01709349511995, 26.707033736836138, 3.3527054976878561)\nparam_jp = (44261947.064995684, 47201854.605378255, 638878930.21491325, 590837622.21680999)"
 },
 {
  "cell_type": "markdown",
  "metadata": {},
  "source": "Mean Income Density $P=xf(x)$ is used to evaluate an education, here $x$ is income and $f(x)$ is\ndistribution function. An immigrant living a US will have a mixed education with portion $\\eta$ \nof the US education and 1-$\\eta$ of his/her home country education, $P_{mix}=\\eta P_{us}$ + \n(1-$\\eta$) $P_{jp}$ will reach its peak when ${\\partial P_{mix} \\over \\partial \\eta}=0$, \nwhich gives $P_{us}=P_{jp}$ when $\\eta$ is about 45.3$\\%$ and income 45.4."
 },
 {
  "cell_type": "code",
  "execution_count": null,
  "metadata": {
   "collapsed": false
  },
  "outputs": [],
  "source": "plt.figure(figsize=(16,8))\ndist = scipy.stats.johnsonsu\nax=plt.subplot(1,2,1)\nX = np.linspace(0,200, 2000)\npdf_fitted_us = dist.pdf(X, *param_us)\nplt.plot(X, pdf_fitted_us)\nb0=50\nix = np.linspace(0, b0)\niy = [dist.pdf(b0, *param_us)]*len(ix)\nverts = [(0, 0)]+list(zip(ix, iy)) + [(b0, 0)]\npoly = Polygon(verts, facecolor='0.9', edgecolor='0.5')\nax.add_patch(poly)\nplt.text(65, 0.015, r\"$f(x_0)$\",horizontalalignment='center', fontsize=24)\nplt.text(45,0.0017, r\"$x_0$\",horizontalalignment='right', fontsize=24)\nplt.text(55,0.035,'mean income density',horizontalalignment='left', fontsize=28)\nplt.text(99,0.03,r'$P = x_0f(x_0)$',horizontalalignment='left', fontsize=24)\nax.set_xlabel('income')\nax.set_ylabel('Chance')\n\nax=plt.subplot(1,2,2)\n# for US data\nX = np.linspace(20,200, 2000)\npdf_fitted_us = dist.pdf(X, *param_us)\ny_us=np.multiply(X,pdf_fitted_us)\nplt.plot(X, y_us, label='$P_{us}$')\nplt.text(38,1.45,'33',fontsize=24)\n# for Japan data\npdf_fitted_jp = dist.pdf(X, *param_jp)\ny_jp=np.multiply(X,pdf_fitted_jp)\nplt.plot(X,y_jp, label='$P_{jp}$')\nax.set_xlabel('income')\nax.set_ylabel('$P$')\n# for mixed data\neta=0.4532\ny_mix=eta*y_us+(1.0-eta)*y_jp\nplt.plot(X,y_mix, label='mixed')\nplt.text(66,1.2,'58',fontsize=24)\nplt.legend(loc='center right',fontsize=24)\nax.set_xticks([20,60,100,140,200])\nplt.tight_layout()\nprint('maximum US P when income is',np.argmax(y_us)*(200-20)/2000.0+20)\nprint('maximum Japan P when income is',np.argmax(y_jp)*(200-20)/2000+20)"
 },
 {
  "cell_type": "code",
  "execution_count": null,
  "metadata": {
   "collapsed": false
  },
  "outputs": [],
  "source": "def mixed(eta):\n    return eta*y_us+(1-eta)*y_jp\n\n# How to determine the parameters for mixed P\n\nplt.figure(figsize=(16,8))\nax = plt.subplot(1,2,1)\nxshort = np.linspace(45,46,100)\npu = dist.pdf(xshort, *param_us)\npj = dist.pdf(xshort, *param_jp)\nplt.plot(xshort, pu, label='US')\nplt.plot(xshort, pj, label=\"Japan\")\nax.set_xlabel('income')\nax.set_ylabel('P')\nplt.text(45.2,0.0206,'determine cross point',fontsize=20)\nplt.legend(loc='lower left',fontsize=24)\n\nax = plt.subplot(1,2,2)\neta=0.45\nx1=[]\ny1=[]\nfor i in range(100):\n    eta+=0.0001\n    x1.append(eta)\n    y1.append(mixed(eta).max())\nplt.plot(x1,y1)\nax.set_xlabel('$\\eta$')\nax.set_ylabel('maximum P')\nplt.text(0.452,0.923,r'determine $\\eta$',fontsize=20)\nplt.show()"
 }
],"metadata":{"kernelspec":{"display_name":"Python 3","language":"python","name":"python3"}}, "nbformat": 4, "nbformat_minor": 0}
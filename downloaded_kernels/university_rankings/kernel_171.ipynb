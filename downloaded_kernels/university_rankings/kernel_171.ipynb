{
  "cells": [
    {
      "cell_type": "markdown",
      "metadata": {
        "_cell_guid": "fe63ae75-945c-04a9-c75b-c3ad5521b6ff"
      },
      "source": [
        ""
      ]
    },
    {
      "cell_type": "code",
      "execution_count": null,
      "metadata": {
        "_cell_guid": "29c8f73d-fa62-93a5-155a-3015175628d3"
      },
      "outputs": [],
      "source": [
        "# This Python 3 environment comes with many helpful analytics libraries installed\n",
        "# It is defined by the kaggle/python docker image: https://github.com/kaggle/docker-python\n",
        "# For example, here's several helpful packages to load in \n",
        "\n",
        "import numpy as np # linear algebra\n",
        "import pandas as pd # data processing, CSV file I/O (e.g. pd.read_csv)\n",
        "\n",
        "# Input data files are available in the \"../input/\" directory.\n",
        "# For example, running this (by clicking run or pressing Shift+Enter) will list the files in the input directory\n",
        "\n",
        "from subprocess import check_output\n",
        "print(check_output([\"ls\", \"../input\"]).decode(\"utf8\"))\n",
        "\n",
        "# Any results you write to the current directory are saved as output."
      ]
    },
    {
      "cell_type": "code",
      "execution_count": null,
      "metadata": {
        "_cell_guid": "84af19dc-d215-da54-8d87-e019195f68ab"
      },
      "outputs": [],
      "source": [
        "import pandas as pd\n",
        "import numpy as np\n",
        "import matplotlib as plt\n",
        "import seaborn as sns\n",
        "%matplotlib inline\n",
        "df = pd.read_csv('../input/timesData.csv')\n"
      ]
    },
    {
      "cell_type": "code",
      "execution_count": null,
      "metadata": {
        "_cell_guid": "55833975-05fb-b82b-9c8c-0ee545358ca7"
      },
      "outputs": [],
      "source": [
        "odf_cp1 = df.copy()\n",
        "odf_cp1['international_students'].replace('',np.nan, inplace=True) #replace all empty celss with Null value\n",
        "odf_cp1['international_students'] = odf_cp1['international_students'].str.replace('%', '')\n",
        "odf_cp1['international_students'] = odf_cp1['international_students'].astype(np.float)\n",
        "print (\"The mean of international student percentage:\"\n",
        "       + str(odf_cp1['international_students'].mean())+\"%\")"
      ]
    },
    {
      "cell_type": "code",
      "execution_count": null,
      "metadata": {
        "_cell_guid": "c97014db-e200-2274-ae26-a0f343d84cd3"
      },
      "outputs": [],
      "source": [
        "print (\"The university with highest percent of international students:\")\n",
        "odf_cp1[odf_cp1['international_students'] == odf_cp1['international_students'].max()]"
      ]
    },
    {
      "cell_type": "code",
      "execution_count": null,
      "metadata": {
        "_cell_guid": "d9de4180-f8e2-99ab-78f2-88c63d91d2d6"
      },
      "outputs": [],
      "source": [
        "print (\"The universities with lowest percent of international students:\")\n",
        "odf_cp1[odf_cp1['international_students'] == odf_cp1['international_students'].min()].head()"
      ]
    },
    {
      "cell_type": "code",
      "execution_count": null,
      "metadata": {
        "_cell_guid": "191922bd-3b61-10e6-cb91-a8ce0c6694ad"
      },
      "outputs": [],
      "source": [
        "print(\"The mean of student_staff_ratio is:\")\n",
        "df['student_staff_ratio'].mean()"
      ]
    },
    {
      "cell_type": "code",
      "execution_count": null,
      "metadata": {
        "_cell_guid": "7748b984-8000-ce96-1597-5dd91326e470"
      },
      "outputs": [],
      "source": [
        "print(\"The world_ranking of those universities with student_staff_ratio under 3.0 is:\")\n",
        "\n",
        "df[df['student_staff_ratio']<3].loc[:, ['student_staff_ratio',\n",
        "                                        'world_rank', 'university_name']]"
      ]
    },
    {
      "cell_type": "code",
      "execution_count": null,
      "metadata": {
        "_cell_guid": "cbf9b176-faff-786f-babe-79f38dec85e6"
      },
      "outputs": [],
      "source": [
        "print (\"\"\"To solve: How do I show all at once without writing code for each year?\"\"\")\n",
        "print (\"\\nThe amount of universities from each country in top 100 world_rank (per year)\")\n",
        "\n",
        "g = df[['country', 'year', 'university_name']][df['world_rank'].str.len() < 3 ]\n",
        "g.groupby(['year', 'country']).count()"
      ]
    },
    {
      "cell_type": "code",
      "execution_count": null,
      "metadata": {
        "_cell_guid": "c29bddf1-9a45-8d15-83e1-9f79d5210afe"
      },
      "outputs": [],
      "source": [
        "print ('Average university enrollment does not seem to be increasing')\n",
        "odf_cp2 = df.copy()\n",
        "odf_cp2['num_students'] = odf_cp2['num_students'].str.replace(',','')\n",
        "odf_cp2['num_students'] = odf_cp2['num_students'].astype(np.float)\n",
        "odf_cp2.groupby('year')['num_students'].mean()"
      ]
    },
    {
      "cell_type": "code",
      "execution_count": null,
      "metadata": {
        "_cell_guid": "8b861ea7-4f5f-a7b5-560f-3fd527753014"
      },
      "outputs": [],
      "source": [
        "\"\"\"Cleaning female_male_ratio column\"\"\"\n",
        "odf_cp3 = df.copy()\n",
        "odf_cp3 = odf_cp3[odf_cp3['female_male_ratio'].str.len()>0] #keep only cells that are not empty\n",
        "odf_cp3['female_male_ratio'] = odf_cp3['female_male_ratio'].str.replace('-','0')\n",
        "odf_cp3['female_male_ratio'] = odf_cp3['female_male_ratio']\\\n",
        "                            .str.split(':', expand=True)#'expand' returns a dataframe\n",
        "                                                        #instead of a list\n",
        "odf_cp3['female_male_ratio'] = odf_cp3['female_male_ratio']\\\n",
        "                            .str[0:2] #grabs first 2 characters of the string in cell\n",
        "odf_cp3['female_male_ratio'] = odf_cp3['female_male_ratio'].astype(np.float)\n",
        "\n",
        "print('The university with highest percentage of female students')\n",
        "odf_cp3[odf_cp3['female_male_ratio']==odf_cp3['female_male_ratio'].max()]"
      ]
    },
    {
      "cell_type": "code",
      "execution_count": null,
      "metadata": {
        "_cell_guid": "6e76ecae-c6c6-f0d1-8137-a86d5acdc999"
      },
      "outputs": [],
      "source": [
        "print('The percentage of female students has not increased.')\n",
        "odf_cp3.groupby('year')['female_male_ratio'].mean()"
      ]
    },
    {
      "cell_type": "code",
      "execution_count": null,
      "metadata": {
        "_cell_guid": "2f409b74-62d7-6590-6519-4064551f8d4b"
      },
      "outputs": [],
      "source": [
        "print ('There is no correlation between rank of university and student to staff ratio')\n",
        "odf_cp5 = df.copy()\n",
        "\n",
        "# convert world rank columns to float (where necessary)\n",
        "f = lambda x: int((int(x.split('-')[0]) + int(x.split('-')[1])) / 2) if len(str(x).strip()) > 3 else x\n",
        "\n",
        "odf_cp5['world_rank'] = odf_cp5['world_rank'].str.replace('=','').map(\n",
        "    f).astype('float')\n",
        "\n",
        "vis1 = sns.lmplot(data=odf_cp5, x='student_staff_ratio', y='world_rank', \\\n",
        "                  fit_reg=False, hue='year', size=7, aspect=1)"
      ]
    },
    {
      "cell_type": "code",
      "execution_count": null,
      "metadata": {
        "_cell_guid": "721bc256-3f88-090b-c03e-606397465f99"
      },
      "outputs": [],
      "source": [
        "print('Correlation between university rank and score.')\n",
        "odf_cp4 = df.copy()\n",
        "odf_cp4 = odf_cp4[odf_cp4['total_score'].str.len()>1] #cell with values '-' will be dropped\n",
        "odf_cp4['total_score'] = odf_cp4['total_score'].astype(np.float)\n",
        "# convert world rank columns to float (where necessary)\n",
        "f = lambda x: int((int(x.split('-')[0]) + int(x.split('-')[1])) / 2) if len(str(x).strip()) > 3 else x\n",
        "\n",
        "odf_cp4['world_rank'] = odf_cp4['world_rank'].str.replace('=','').map(\n",
        "    f).astype('float')\n",
        "vis2 = sns.lmplot(data=odf_cp4, x='total_score', y='world_rank', \\\n",
        "                  fit_reg=False, hue='year', size=7, aspect=1)"
      ]
    }
  ],
  "metadata": {
    "_change_revision": 0,
    "_is_fork": false,
    "kernelspec": {
      "display_name": "Python 3",
      "language": "python",
      "name": "python3"
    },
    "language_info": {
      "codemirror_mode": {
        "name": "ipython",
        "version": 3
      },
      "file_extension": ".py",
      "mimetype": "text/x-python",
      "name": "python",
      "nbconvert_exporter": "python",
      "pygments_lexer": "ipython3",
      "version": "3.6.0"
    }
  },
  "nbformat": 4,
  "nbformat_minor": 0
}
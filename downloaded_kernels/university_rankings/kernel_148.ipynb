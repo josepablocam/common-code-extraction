{"cells":[
 {
  "cell_type": "code",
  "execution_count": null,
  "metadata": {
   "collapsed": false
  },
  "outputs": [],
  "source": "# This Python 3 environment comes with many helpful analytics libraries installed\n# It is defined by the kaggle/python docker image: https://github.com/kaggle/docker-python\n# For example, here's several helpful packages to load in \n\nimport numpy as np # linear algebra\nimport pandas as pd # data processing, CSV file I/O (e.g. pd.read_csv)\n\n# Input data files are available in the \"../input/\" directory.\n# For example, running this (by clicking run or pressing Shift+Enter) will list the files in the input directory\n\nfrom subprocess import check_output\nprint(check_output([\"ls\", \"../input\"]).decode(\"utf8\"))\n\n# Any results you write to the current directory are saved as output.\n\n\n\n# Program to display the Fibonacci sequence up to n-th term where n is provided by the user\n\n# take input from the user\nnterms = int(input(\"How many terms? \"))\n\n# first two terms\nn1 = 0\nn2 = 1\ncount = 2\n\n# check if the number of terms is valid\nif nterms <= 0:\n   print(\"Plese enter a positive integer\")\nelif nterms == 1:\n   print(\"Fibonacci sequence:\")\n   print(n1)\nelse:\n   print(\"Fibonacci sequence:\")\n   print(n1,\",\",n2,end=', ')\n   while count < nterms:\n       nth = n1 + n2\n       print(nth,end=' , ')\n       # update values\n       n1 = n2\n       n2 = nth\n       count += 1"
 },
 {
  "cell_type": "code",
  "execution_count": null,
  "metadata": {
   "collapsed": false
  },
  "outputs": [],
  "source": ""
 }
],"metadata":{"kernelspec":{"display_name":"Python 3","language":"python","name":"python3"}}, "nbformat": 4, "nbformat_minor": 0}
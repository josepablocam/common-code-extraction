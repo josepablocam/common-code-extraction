{"cells":[
 {
  "cell_type": "code",
  "execution_count": null,
  "metadata": {
   "collapsed": false
  },
  "outputs": [],
  "source": "##################################################################\n## Work In Progress\n##################################################################\n\n# This Python 3 environment comes with many helpful analytics libraries installed\n# It is defined by the kaggle/python docker image: https://github.com/kaggle/docker-python\n# For example, here's several helpful packages to load in \n\n\nfrom scipy.stats import friedmanchisquare\nimport numpy as np # linear algebra\nimport pandas as pd # data processing, CSV file I/O (e.g. pd.read_csv)\nimport matplotlib.pyplot as plt\nimport seaborn as sns\nimport re\n\n# Input data files are available in the \"../input/\" directory.\n# For example, running this (by clicking run or pressing Shift+Enter) will list the files in the input directory\n\nfrom subprocess import check_output\nprint(check_output([\"ls\", \"../input\"]).decode(\"utf8\"))\n\n# Any results you write to the current directory are saved as output."
 },
 {
  "cell_type": "code",
  "execution_count": null,
  "metadata": {
   "collapsed": false
  },
  "outputs": [],
  "source": "def removeNotNeeded(string):\n    if (type(string) != str):\n        return string\n    else:\n        return re.sub(r'\\([^)]*\\)|[^a-zA-Z\\s0-9]+', '', string)\n    "
 },
 {
  "cell_type": "code",
  "execution_count": null,
  "metadata": {
   "collapsed": false
  },
  "outputs": [],
  "source": "# Read the three primary datasets\nshanghai = pd.read_csv('../input/shanghaiData.csv')\ncwur = pd.read_csv('../input/cwurData.csv')\ntimes = pd.read_csv('../input/timesData.csv')\n"
 },
 {
  "cell_type": "code",
  "execution_count": null,
  "metadata": {
   "collapsed": false
  },
  "outputs": [],
  "source": "# Make column names uniform all throughout\nshanghai = shanghai.rename(columns = {'total_score': 'score'})\ncwur = cwur.rename(columns = {'institution': 'university_name'#, 'score': 'score_cwur'\n                             })\ntimes = times.rename(columns = {'total_score': 'score'})\n"
 },
 {
  "cell_type": "code",
  "execution_count": null,
  "metadata": {
   "collapsed": false
  },
  "outputs": [],
  "source": "# Filter year variable and include data only from 2012 onwards\nshang2012gre = shanghai[(shanghai.year >= 2012)]\ntimes2012gre = times[(times.year >= 2012)]\n"
 },
 {
  "cell_type": "code",
  "execution_count": null,
  "metadata": {
   "collapsed": false
  },
  "outputs": [],
  "source": "# Get unique schools\nunishang = shang2012gre.university_name.unique()\nunitimes = times2012gre.university_name.unique()\nunicwur = cwur.university_name.unique()\n"
 },
 {
  "cell_type": "code",
  "execution_count": null,
  "metadata": {
   "collapsed": false
  },
  "outputs": [],
  "source": "# Get common schools among the three WITHOUT cleaning university column\ncommuni = set(unicwur).intersection(unitimes).intersection(unishang)\n\n# Notice how some well-known schools, such as MIT, are missing from this dataset. \n# Further cleaning is needed to remedy it.\n# Making a working code that will cater to a dataset with the same\n# structure yet different values is what will try to achieve first."
 },
 {
  "cell_type": "code",
  "execution_count": null,
  "metadata": {
   "collapsed": false
  },
  "outputs": [],
  "source": "filtshang = shang2012gre[shang2012gre['university_name'].isin(communi)]\nfilttimes = times2012gre[times2012gre['university_name'].isin(communi)]\nfiltcwur = cwur[cwur['university_name'].isin(communi)]\n\nsmolshang = filtshang[[\"university_name\", \"score\", \"year\"]]\nsmoltimes = filttimes[[\"university_name\", \"score\", \"year\"]]\nsmolcwur = filtcwur[[\"university_name\", \"score\", \"year\"]]"
 },
 {
  "cell_type": "code",
  "execution_count": null,
  "metadata": {
   "collapsed": false
  },
  "outputs": [],
  "source": "# Year 2012 only\nshang2012 = smolshang[(smolshang.year == 2012)]\ntimes2012 = smoltimes[(smoltimes.year == 2012)]\ncwur2012 = smolcwur[(smolcwur.year == 2012)]\n\nshang2012 = shang2012[[\"university_name\", \"score\"]]\ntimes2012 = times2012[[\"university_name\", \"score\"]]\ncwur2012 = cwur2012[[\"university_name\", \"score\"]]\n\nshang2012['institution'] = \"shanghai\"\ntimes2012['institution'] = \"times\"\ncwur2012['institution'] = \"cwur\""
 },
 {
  "cell_type": "code",
  "execution_count": null,
  "metadata": {
   "collapsed": false
  },
  "outputs": [],
  "source": "all2012 = pd.concat([times2012, shang2012, cwur2012], ignore_index=True)\n\nprint(all2012[:5]) #Check how the dataset looks like"
 },
 {
  "cell_type": "code",
  "execution_count": null,
  "metadata": {
   "collapsed": false
  },
  "outputs": [],
  "source": "all2012 = all2012.replace({'-': ''}, regex=True)\nall2012[['score']] = all2012[['score']].apply(lambda x: pd.to_numeric(x, errors='ignore'))\nall2012.dtypes\n#print(all2012['score_times'].unique())"
 },
 {
  "cell_type": "code",
  "execution_count": null,
  "metadata": {
   "collapsed": false
  },
  "outputs": [],
  "source": "all2012 = all2012.fillna(0)\na2012 = all2012[all2012['score'] > 0]"
 },
 {
  "cell_type": "code",
  "execution_count": null,
  "metadata": {
   "collapsed": false
  },
  "outputs": [],
  "source": "# We now have a dataset that do not have unscored universities."
 },
 {
  "cell_type": "code",
  "execution_count": null,
  "metadata": {
   "collapsed": false
  },
  "outputs": [],
  "source": "# We get only the universities who have ratings from the 3 institutions.\ns = a2012.groupby(['university_name']).transform('count')['score']\na2012['count'] = pd.Series(s)\na2012 = a2012[ a2012['count'] == 3 ]"
 },
 {
  "cell_type": "code",
  "execution_count": null,
  "metadata": {
   "collapsed": false
  },
  "outputs": [],
  "source": "f, ax = plt.subplots(figsize=(8,80))\nsns.barplot(y='university_name', x=\"score\", hue=\"institution\", data=a2012, orient='h')"
 },
 {
  "cell_type": "code",
  "execution_count": null,
  "metadata": {
   "collapsed": false
  },
  "outputs": [],
  "source": "# Make a dataset that can be fed to scipy.stats function friedman\n\nshang2012 = smolshang[(smolshang.year == 2012)]\ntimes2012 = smoltimes[(smoltimes.year == 2012)]\ncwur2012 = smolcwur[(smolcwur.year == 2012)]\n\nshang2012 = shang2012[[\"university_name\", \"score\"]]\ntimes2012 = times2012[[\"university_name\", \"score\"]]\ncwur2012 = cwur2012[[\"university_name\", \"score\"]]\n\nshang2012 = shang2012.rename(columns = {'score' : 'score_shang'})\ncwur2012 = cwur2012.rename(columns = {'score': 'score_cwur'})                          \ntimes2012 = times2012.rename(columns = {'score': 'score_times'})\n\npart2012 = pd.merge(times2012, shang2012, on='university_name', how='outer')\nall2012 = pd.merge(part2012, cwur2012, on='university_name', how='outer')"
 },
 {
  "cell_type": "code",
  "execution_count": null,
  "metadata": {
   "collapsed": false
  },
  "outputs": [],
  "source": "all2012 = all2012.replace({'-': ''}, regex=True)\nall2012[['score_times']] = all2012[['score_times']].apply(lambda x: pd.to_numeric(x, errors='ignore'))\nall2012 = all2012.fillna(0)\na2012 = all2012[all2012[['score_shang', 'score_times', 'score_cwur']] > 0]\na2012.dtypes"
 },
 {
  "cell_type": "code",
  "execution_count": null,
  "metadata": {
   "collapsed": false
  },
  "outputs": [],
  "source": "print(friedmanchisquare(a2012[1, :], a2012[2, :], a2012[3, :]))\n"
 },
 {
  "cell_type": "code",
  "execution_count": null,
  "metadata": {
   "collapsed": false
  },
  "outputs": [],
  "source": ""
 }
],"metadata":{"kernelspec":{"display_name":"Python 3","language":"python","name":"python3"}}, "nbformat": 4, "nbformat_minor": 0}
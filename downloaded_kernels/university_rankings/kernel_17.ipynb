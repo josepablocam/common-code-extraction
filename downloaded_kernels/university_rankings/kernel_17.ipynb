{
  "cells": [
    {
      "cell_type": "markdown",
      "metadata": {
        "_cell_guid": "6aef1f36-6b22-541f-ba64-e0d45096d082"
      },
      "source": [
        "## Find the ranking of your University or dreamed University here and know what can be done to be a better University."
      ]
    },
    {
      "cell_type": "code",
      "execution_count": null,
      "metadata": {
        "_cell_guid": "7efdc7f5-4020-582e-595d-a5cc273d1ccb"
      },
      "outputs": [],
      "source": [
        "import numpy as np # linear algebra\n",
        "import pandas as pd # data processing, CSV file I/O (e.g. pd.read_csv)\n",
        "import matplotlib.pyplot as plt\n",
        "import seaborn as sns\n",
        "%matplotlib inline\n",
        "data = pd.read_csv('../input/cwurData.csv')"
      ]
    },
    {
      "cell_type": "code",
      "execution_count": null,
      "metadata": {
        "_cell_guid": "23e87714-13c7-31d5-a06f-576e766efbd0"
      },
      "outputs": [],
      "source": [
        "data.head(3)"
      ]
    },
    {
      "cell_type": "code",
      "execution_count": null,
      "metadata": {
        "_cell_guid": "773d5631-3c89-958a-5eb0-178e881795d2"
      },
      "outputs": [],
      "source": [
        "data.shape"
      ]
    },
    {
      "cell_type": "code",
      "execution_count": null,
      "metadata": {
        "_cell_guid": "a30b12d9-d82f-fc7e-0ddf-4f5b10ea38b2"
      },
      "outputs": [],
      "source": [
        "data.info()"
      ]
    },
    {
      "cell_type": "code",
      "execution_count": null,
      "metadata": {
        "_cell_guid": "7c955265-9646-2f41-49a6-be1c51abd8e3"
      },
      "outputs": [],
      "source": [
        "dt_country = data.country.value_counts()\n",
        "\n",
        "fig = plt.figure(figsize=(6, 14))\n",
        "dt_country.plot(kind='barh')\n",
        "plt.title('Total Institute by Country')\n",
        "plt.xlabel('Counts')\n",
        "plt.show()"
      ]
    },
    {
      "cell_type": "code",
      "execution_count": null,
      "metadata": {
        "_cell_guid": "d55555e1-ea6f-e38e-7125-1f19e5a880f5"
      },
      "outputs": [],
      "source": [
        "def plot_correlation(df,fg_width=9, fg_height=9):\n",
        "    \n",
        "    corr = df.corr()\n",
        "    fig = plt.figure(figsize=(fg_width, fg_height))\n",
        "    ax = fig.add_subplot(211)\n",
        "    cax = ax.matshow(corr, cmap='Blues', interpolation='nearest')\n",
        "    \n",
        "    fig.colorbar(cax)\n",
        "    plt.xticks(range(len(corr.columns)), corr.columns)\n",
        "    plt.yticks(range(len(corr.columns)), corr.columns)\n",
        "\n",
        "plot_correlation(data.drop(['score', 'national_rank', 'year'], axis=1))"
      ]
    },
    {
      "cell_type": "code",
      "execution_count": null,
      "metadata": {
        "_cell_guid": "7c9ed50a-a8bc-902c-fddd-a5809d473e95"
      },
      "outputs": [],
      "source": [
        "dt_sub2 = data.ix[:,[\"world_rank\", \"publications\",\"influence\",\"citations\", \"broad_impact\"]]\n",
        "pd.scatter_matrix(dt_sub2, alpha=0.3, diagonal='kde', figsize=(9,9))\n",
        "plt.show()"
      ]
    },
    {
      "cell_type": "code",
      "execution_count": null,
      "metadata": {
        "_cell_guid": "292f72e1-8c5b-7a04-670d-20ca5510eae9"
      },
      "outputs": [],
      "source": [
        "data[['world_rank','institution', 'country', 'year']][(data['world_rank']<=10)]"
      ]
    },
    {
      "cell_type": "code",
      "execution_count": null,
      "metadata": {
        "_cell_guid": "2ca9352c-cc92-bbc5-4cc9-eb05db921e02"
      },
      "outputs": [],
      "source": [
        "data[['world_rank','institution', 'country', 'year']][(data['country']=='China')&(data['world_rank']<=500)]"
      ]
    },
    {
      "cell_type": "code",
      "execution_count": null,
      "metadata": {
        "_cell_guid": "756bc2d5-6f50-83de-b57f-9326f75ed107"
      },
      "outputs": [],
      "source": [
        ""
      ]
    },
    {
      "cell_type": "code",
      "execution_count": null,
      "metadata": {
        "_cell_guid": "90df907c-00ef-f50d-b762-c83345689485"
      },
      "outputs": [],
      "source": ""
    },
    {
      "cell_type": "code",
      "execution_count": null,
      "metadata": {
        "_cell_guid": "ad6b7130-b16d-ed09-50e7-820034f98b7e"
      },
      "outputs": [],
      "source": ""
    }
  ],
  "metadata": {
    "_change_revision": 0,
    "_is_fork": false,
    "kernelspec": {
      "display_name": "Python 3",
      "language": "python",
      "name": "python3"
    },
    "language_info": {
      "codemirror_mode": {
        "name": "ipython",
        "version": 3
      },
      "file_extension": ".py",
      "mimetype": "text/x-python",
      "name": "python",
      "nbconvert_exporter": "python",
      "pygments_lexer": "ipython3",
      "version": "3.5.2"
    }
  },
  "nbformat": 4,
  "nbformat_minor": 0
}
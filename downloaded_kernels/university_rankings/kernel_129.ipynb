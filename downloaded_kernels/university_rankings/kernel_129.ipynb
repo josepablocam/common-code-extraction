{"cells":[
 {
  "cell_type": "markdown",
  "metadata": {},
  "source": "# Best World Universities\n\nThe objective of this script is to visualize the evolution of world university rankings of world's best universities, in the period from 2005 to 2015."
 },
 {
  "cell_type": "code",
  "execution_count": null,
  "metadata": {
   "collapsed": false
  },
  "outputs": [],
  "source": "import numpy as np # linear algebra\nimport pandas as pd # data processing, CSV file I/O (e.g. pd.read_csv)\nimport seaborn as sns\nimport matplotlib.pyplot as plt\n\n# Input data files are available in the \"../input/\" directory.\n# For example, running this (by clicking run or pressing Shift+Enter) will list the files in the input directory\n\nfrom subprocess import check_output\nprint(check_output([\"ls\", \"../input\"]).decode(\"utf8\"))\n\n# Any results you write to the current directory are saved as output."
 },
 {
  "cell_type": "markdown",
  "metadata": {},
  "source": "# Loading the input data\nWe are using only Shanghai data, because it covers the biggest time span of all available datasets"
 },
 {
  "cell_type": "code",
  "execution_count": null,
  "metadata": {
   "collapsed": false
  },
  "outputs": [],
  "source": "shanghai = pd.read_csv('../input/shanghaiData.csv')\nprint(shanghai.head())\n\n# A bit of feature cleaning\nshanghai.world_rank = [int(x.split('-')[0]) if type(x) == str else x for x in shanghai.world_rank]"
 },
 {
  "cell_type": "code",
  "execution_count": null,
  "metadata": {
   "collapsed": false
  },
  "outputs": [],
  "source": "TopN_last = shanghai[(shanghai.year == 2015) & (shanghai.world_rank.astype(int) < 81)]\n\nTopNidxs = [True if name in TopN_last.university_name.unique() else False for name in shanghai.university_name]\n\nTopN_all_yrs = shanghai[TopNidxs]"
 },
 {
  "cell_type": "code",
  "execution_count": null,
  "metadata": {
   "collapsed": false
  },
  "outputs": [],
  "source": "# Setting the plotting style \nsns.set_style('darkgrid')\n\n# Auxiliary variable for neat annotation\nlabel_occupancy = np.zeros(len(TopN_last))\n\nfor uni in TopN_all_yrs.university_name.unique():\n    uni_df = TopN_all_yrs[TopN_all_yrs.university_name == uni]\n    T = uni_df.year.unique()\n    rank = uni_df.world_rank.values\n    \n    # Auxiliary variable for neat annotation\n    lab_offs = -1\n    \n    while not(label_occupancy[rank[-1] + lab_offs] == 0):\n        lab_offs += 1    \n    \n    label_occupancy[rank[-1] + lab_offs] = 1\n    lab_y = rank[-1] + lab_offs + 1\n    \n    if lab_offs == -1:\n         bullet = \"(\"+ str(rank[-1]) + \") \"\n    else:\n         bullet = \" \"*(5 + len(str(rank[-1])))           \n    \n    max_len = 30\n\n    uni_name = (uni[:max_len] + '..') if len(uni) > max_len else uni\n    \n    plt.plot(T, rank, linewidth = 3)\n    plt.text(T[-1]+0.2,\n             lab_y,\n             bullet + uni_name,\n             verticalalignment='center')\n\n    \nplt.gca().invert_yaxis()\nplt.xlim([2004, 2019])\nfig = plt.gcf()\nfig.set_size_inches(16.5, 30)\nplt.show()"
 }
],"metadata":{"kernelspec":{"display_name":"Python 3","language":"python","name":"python3"}}, "nbformat": 4, "nbformat_minor": 0}
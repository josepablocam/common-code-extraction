{"cells":[
 {
  "cell_type": "code",
  "execution_count": null,
  "metadata": {
   "collapsed": false
  },
  "outputs": [],
  "source": "# This Python 3 environment comes with many helpful analytics libraries installed\n# It is defined by the kaggle/python docker image: https://github.com/kaggle/docker-python\n# For example, here's several helpful packages to load in \n\nimport numpy as np # linear algebra\nimport pandas as pd # data processing, CSV file I/O (e.g. pd.read_csv)\n\n# Input data files are available in the \"../input/\" directory.\n# For example, running this (by clicking run or pressing Shift+Enter) will list the files in the input directory\n\n# from subprocess import check_output\n# print(check_output([\"ls\", \"../input\"]).decode(\"utf8\"))\n\ncwur_df = pd.read_csv('../input/cwurData.csv')\n#ed_expend_df = pd.read_csv('../input/education_expenditure_supplementary_data.csv')\ned_attain_df = pd.read_csv('../input/educational_attainment_supplementary_data.csv')\nschool_country_df = pd.read_csv('../input/school_and_country_table.csv')\nshanghai_df = pd.read_csv('../input/shanghaiData.csv')\ntime_data_df = pd.read_csv('../input/timesData.csv')\n\n# Any results you write to the current directory are saved as output.\ncwur_df.head()"
 },
 {
  "cell_type": "code",
  "execution_count": null,
  "metadata": {
   "collapsed": false
  },
  "outputs": [],
  "source": ""
 }
],"metadata":{"kernelspec":{"display_name":"Python 3","language":"python","name":"python3"}}, "nbformat": 4, "nbformat_minor": 0}
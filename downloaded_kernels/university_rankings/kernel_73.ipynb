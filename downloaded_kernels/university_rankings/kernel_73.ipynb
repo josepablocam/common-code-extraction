{"cells":[
 {
  "cell_type": "code",
  "execution_count": null,
  "metadata": {
   "collapsed": false
  },
  "outputs": [],
  "source": "# This Python 3 environment comes with many helpful analytics libraries installed\n# It is defined by the kaggle/python docker image: https://github.com/kaggle/docker-python\n# For example, here's several helpful packages to load in \n\nimport numpy as np # linear algebra\nimport pandas as pd # data processing, CSV file I/O (e.g. pd.read_csv)\nimport matplotlib.pyplot as plt #plotting\n%matplotlib inline\n\nimport re #regex\nfrom difflib import SequenceMatcher as SM #string comparison\n\n# Input data files are available in the \"../input/\" directory.\n# For example, running this (by clicking run or pressing Shift+Enter) will list the files in the input directory\n\nfrom subprocess import check_output\nprint(check_output([\"ls\", \"../input\"]).decode(\"utf8\"))\n\n# Any results you write to the current directory are saved as output."
 },
 {
  "cell_type": "markdown",
  "metadata": {},
  "source": "## Preprocessing"
 },
 {
  "cell_type": "code",
  "execution_count": null,
  "metadata": {
   "collapsed": false
  },
  "outputs": [],
  "source": "cwur = pd.read_csv('../input/cwurData.csv')\nshanghai = pd.read_csv('../input/shanghaiData.csv')\ntimes = pd.read_csv('../input/timesData.csv')"
 },
 {
  "cell_type": "code",
  "execution_count": null,
  "metadata": {
   "collapsed": false
  },
  "outputs": [],
  "source": "cwur = cwur.rename(columns = {'institution': 'university_name'})\nshanghai = shanghai.rename(columns = {'total_score': 'score'})\ntimes = times.rename(columns = {'total_score': 'score'})"
 },
 {
  "cell_type": "markdown",
  "metadata": {},
  "source": "only use total score for the time being"
 },
 {
  "cell_type": "code",
  "execution_count": null,
  "metadata": {
   "collapsed": false
  },
  "outputs": [],
  "source": "cwur = cwur[['university_name', 'score']]\nshanghai = shanghai[['university_name', 'score']]\ntimes = times[['university_name', 'score']]"
 },
 {
  "cell_type": "markdown",
  "metadata": {},
  "source": "pd.to_numeric will cast '-' to 100, therefore we gotta clean it beforhand"
 },
 {
  "cell_type": "code",
  "execution_count": null,
  "metadata": {
   "collapsed": false
  },
  "outputs": [],
  "source": "times = times[~(times['score'] == '-')]"
 },
 {
  "cell_type": "markdown",
  "metadata": {},
  "source": "convert scores to floats"
 },
 {
  "cell_type": "code",
  "execution_count": null,
  "metadata": {
   "collapsed": false
  },
  "outputs": [],
  "source": "cwur.score = pd.to_numeric(cwur.score, errors='coerce')\nshanghai.score = pd.to_numeric(shanghai.score, errors='coerce')\ntimes.score = pd.to_numeric(shanghai.score, errors='coerce')"
 },
 {
  "cell_type": "markdown",
  "metadata": {},
  "source": "group scores from different years by university"
 },
 {
  "cell_type": "code",
  "execution_count": null,
  "metadata": {
   "collapsed": false
  },
  "outputs": [],
  "source": "cwur = cwur.groupby('university_name').mean().reset_index()\nshanghai = shanghai.groupby('university_name').mean().reset_index()\ntimes = times.groupby('university_name').mean().reset_index()"
 },
 {
  "cell_type": "markdown",
  "metadata": {},
  "source": "creating some visualizations of score distributions to check whether a organization uses a different scala for the total score"
 },
 {
  "cell_type": "code",
  "execution_count": null,
  "metadata": {
   "collapsed": false
  },
  "outputs": [],
  "source": "scores_cwur = [x for x in cwur['score'].values if not np.isnan(x)]\nscores_shanghai = [x for x in shanghai['score'].values if not np.isnan(x)]\nscores_times = [x for x in times['score'].values if not np.isnan(x)]"
 },
 {
  "cell_type": "code",
  "execution_count": null,
  "metadata": {
   "collapsed": false
  },
  "outputs": [],
  "source": "fig, axes = plt.subplots(nrows=1, ncols=3, figsize=(14, 5))\n\nnum_bins = 20\nn, bins, patches = axes[0].hist(scores_cwur, num_bins, \n                                facecolor='green', alpha=0.5)\naxes[0].set_title('Cwur')\nn, bins, patches = axes[1].hist(scores_shanghai, num_bins,\n                                facecolor='blue', alpha=0.5)\naxes[1].set_title('Shanghai')\nn, bins, patches = axes[2].hist(scores_times, num_bins, \n                                facecolor='red', alpha=0.5)\naxes[2].set_title('Times')\nplt.show()"
 },
 {
  "cell_type": "code",
  "execution_count": null,
  "metadata": {
   "collapsed": false
  },
  "outputs": [],
  "source": "boxplt = plt.boxplot([scores_cwur, scores_shanghai, scores_times])\nlabels = plt.xticks([1, 2, 3], ['Cwur', 'Shanghai', 'Times'])"
 },
 {
  "cell_type": "markdown",
  "metadata": {},
  "source": "looks like Shanghai & Times do have a different scala than Cwur has thus we should standardize those"
 },
 {
  "cell_type": "code",
  "execution_count": null,
  "metadata": {
   "collapsed": false
  },
  "outputs": [],
  "source": "cwur.score = (cwur.score - cwur.score.mean())/cwur.score.std()\nshanghai.score = (shanghai.score - shanghai.score.mean())/shanghai.score.std()\ntimes.score = (times.score - times.score.mean())/times.score.std()"
 },
 {
  "cell_type": "code",
  "execution_count": null,
  "metadata": {
   "collapsed": false
  },
  "outputs": [],
  "source": "z_scores_cwur = [x for x in cwur['score'].values if not np.isnan(x)]\nz_scores_shanghai = [x for x in shanghai['score'].values if not np.isnan(x)]\nz_scores_times = [x for x in times['score'].values if not np.isnan(x)]"
 },
 {
  "cell_type": "code",
  "execution_count": null,
  "metadata": {
   "collapsed": false
  },
  "outputs": [],
  "source": "boxplt = plt.boxplot([z_scores_cwur, z_scores_shanghai, z_scores_times])\nlabels = plt.xticks([1, 2, 3], ['Cwur', 'Shanghai', 'Times'])"
 },
 {
  "cell_type": "markdown",
  "metadata": {},
  "source": "way better, now we can try to merge those datasets: I'll start by cleaning the university_name string"
 },
 {
  "cell_type": "code",
  "execution_count": null,
  "metadata": {
   "collapsed": false
  },
  "outputs": [],
  "source": "cwur.university_name = [re.sub(r'[^a-zA-Z\\s0-9]+', '', string) for string in cwur.university_name]\nshanghai.university_name = [re.sub(r'[^a-zA-Z\\s0-9]+', '', string) for string in shanghai.university_name]\ntimes.university_name = [re.sub(r'[^a-zA-Z\\s0-9]+', '', string) for string in times.university_name]"
 },
 {
  "cell_type": "markdown",
  "metadata": {},
  "source": "## Merging datasets\n\n\ncan't use SeatGeek's great [string matching module](https://github.com/seatgeek/fuzzywuzzy) due to the use of kaggle scripts, gonna start by using built in SequenceMatcher"
 },
 {
  "cell_type": "code",
  "execution_count": null,
  "metadata": {
   "collapsed": false
  },
  "outputs": [],
  "source": "def is_fuzzy_match(string1, string2, threshold = 0.9):\n    similarity = SM(None, str(string1), str(string2)).ratio()\n    if (similarity > threshold):\n        return True\n    else:\n        return False"
 },
 {
  "cell_type": "markdown",
  "metadata": {},
  "source": "identifying the organization with the most universities present, gonna use that as a starting point"
 },
 {
  "cell_type": "code",
  "execution_count": null,
  "metadata": {
   "collapsed": false
  },
  "outputs": [],
  "source": "(len(cwur), len(shanghai), len(times))"
 },
 {
  "cell_type": "code",
  "execution_count": null,
  "metadata": {
   "collapsed": false
  },
  "outputs": [],
  "source": "data = cwur"
 },
 {
  "cell_type": "code",
  "execution_count": null,
  "metadata": {
   "collapsed": false
  },
  "outputs": [],
  "source": "data = data.rename(columns = {'score': 'score_cwur'})"
 },
 {
  "cell_type": "markdown",
  "metadata": {},
  "source": "note: not that pretty, gonna refactor those functions later on:\n\n- more flexibility\n- using the country as an additional parameter\n- calculating stats for matching"
 },
 {
  "cell_type": "code",
  "execution_count": null,
  "metadata": {
   "collapsed": false
  },
  "outputs": [],
  "source": "def check_for_uni_shanghai(series):\n    university = series['university_name']\n    for uni in shanghai['university_name'].values:\n        if (is_fuzzy_match(university, uni)):\n            return shanghai[shanghai['university_name'] == uni]['score'].values[0]\n    #print('found no match for {u}'.format(u = university))"
 },
 {
  "cell_type": "code",
  "execution_count": null,
  "metadata": {
   "collapsed": false
  },
  "outputs": [],
  "source": "def check_for_uni_times(series):\n    university = series['university_name']\n    for uni in times['university_name'].values:\n        if (is_fuzzy_match(university, uni)):\n            return times[times['university_name'] == uni]['score'].values[0]\n    #print('found no match for {u}'.format(u = university))"
 },
 {
  "cell_type": "code",
  "execution_count": null,
  "metadata": {
   "collapsed": false
  },
  "outputs": [],
  "source": "data['score_shanghai'] = data.apply(check_for_uni_shanghai, axis = 1)"
 },
 {
  "cell_type": "code",
  "execution_count": null,
  "metadata": {
   "collapsed": false
  },
  "outputs": [],
  "source": "data['score_times'] = data.apply(check_for_uni_times, axis = 1)"
 },
 {
  "cell_type": "markdown",
  "metadata": {},
  "source": "litte data validation by comparing scores for 'Hardvard University'"
 },
 {
  "cell_type": "code",
  "execution_count": null,
  "metadata": {
   "collapsed": false
  },
  "outputs": [],
  "source": "data[data.university_name == 'Harvard University']"
 },
 {
  "cell_type": "code",
  "execution_count": null,
  "metadata": {
   "collapsed": false
  },
  "outputs": [],
  "source": "(cwur[cwur.university_name == 'Harvard University'].score.values[0],\n shanghai[shanghai.university_name == 'Harvard University'].score.values[0],\n times[times.university_name == 'Harvard University'].score.values[0])"
 },
 {
  "cell_type": "markdown",
  "metadata": {},
  "source": "now we are going to calc mean scores per row:\nnote that universities shouldn't be punsihed for not having a score, therefore only not nan values are relevant"
 },
 {
  "cell_type": "code",
  "execution_count": null,
  "metadata": {
   "collapsed": false
  },
  "outputs": [],
  "source": "def calcScore(series):\n    scores = [x for x in series.values[1:] if not np.isnan(x)]\n    return np.mean(scores)"
 },
 {
  "cell_type": "code",
  "execution_count": null,
  "metadata": {
   "collapsed": false
  },
  "outputs": [],
  "source": "data['mean_score'] = data.apply(calcScore, axis = 1)"
 },
 {
  "cell_type": "code",
  "execution_count": null,
  "metadata": {
   "collapsed": false
  },
  "outputs": [],
  "source": "data = data.sort_values('mean_score', ascending=False)"
 },
 {
  "cell_type": "code",
  "execution_count": null,
  "metadata": {
   "collapsed": false
  },
  "outputs": [],
  "source": "data.to_csv('aggregatedScores.csv', sep=',')"
 },
 {
  "cell_type": "markdown",
  "metadata": {},
  "source": "## Adding DS programs\n\n\n\nprops to Ryan Swanstrom for [this](https://github.com/ryanswanstrom/awesome-datascience-colleges/blob/master/data_science_colleges.csv) awesome collection!! For more information see his [github](https://github.com/ryanswanstrom/) \n\ncause working in kaggle scripts I only exported university names which have a ds program:"
 },
 {
  "cell_type": "code",
  "execution_count": null,
  "metadata": {
   "collapsed": false
  },
  "outputs": [],
  "source": "programs = ['Auburn University', 'The University of Alabama',\n       'Arkansas Tech University', 'University of Arkansas',\n       'University of Arkansas at Little Rock', 'Arizona State University',\n       'University of Arizona', 'California Polytechnic State University',\n       'California State UniversityEast Bay',\n       'California State UniversityFullerton',\n       'California State UniversityLong Beach',\n       'California State UniversitySan Bernardino', 'Chapman University',\n       'Claremont Graduate University', 'Galvanize U',\n       'National University', 'San Jose State University',\n       'Santa Clara University', 'Stanford University',\n       'University of California Hastings College of Law',\n       'University of CaliforniaDavis', 'University of CaliforniaIrvine',\n       'University of CaliforniaSan Diego',\n       'University of CaliforniaBerkeley', 'University of San Francisco',\n       'University Of San Francisco', 'University of Southern California',\n       'University of the Pacific', 'American Sentinel University',\n       'Aspen University', 'Colorado State UniversityFort Collins',\n       'Colorado State UniversityGlobal Campus',\n       'Colorado Technical University', 'Regis University',\n       'University of Colorado Boulder', 'University of Colorado Denver',\n       'University of Denver', 'Central Connecticut State University',\n       'Quinnipiac University', 'University of Connecticut',\n       'University of New Haven', 'American University',\n       'George Washington University', 'Georgetown University',\n       'The George Washington University', 'New College of Florida',\n       'Florida International University',\n       'Florida Polytechnic University', 'Full Sail University',\n       'Nova Southeastern University', 'PascoHernando State College',\n       'University of Central Florida', 'University of Florida',\n       'University of Miami',\n       'University of South Florida SarasotaManatee',\n       'University of South FloridaMain Campus',\n       'Georgia Southern University', 'Georgia State University',\n       'Georgia Tech', 'Kennesaw State University', 'Mercer University',\n       'University of Georgia', 'Loras College', 'Northwestern College',\n       'Luther College', 'The University of Iowa', 'Aurora University',\n       'Benedictine University', 'DePaul University', 'Elmhurst College',\n       'Illinois Institute of Technology', 'Lewis University',\n       'Loyola University Chicago', 'Northwestern University',\n       'University of Chicago', 'University of Illinois at Chicago',\n       'University of Illinois at Springfield',\n       'University of Illinois at UrbanaChampaign',\n       'University of St Francis', 'Indiana University Bloomington',\n       'Indiana UniversityPurdue UniversityIndianapolis',\n       'Purdue UniversityMain Campus', 'Saint Marys College',\n       'University of Notre Dame', 'University of Evansville',\n       'University of Kansas', 'Northern Kentucky University',\n       'University of Louisville', 'Louisiana State University',\n       'Babson College', 'Becker College', 'Bentley University',\n       'Brandeis University', 'Harvard University',\n       'Northeastern University', 'University of Massachusetts Amherst',\n       'Worcester Polytechnic Institute', 'Smith College',\n       'Johns Hopkins University', 'Notre Dame of Maryland University',\n       'University of MarylandBaltimore County',\n       'University of MarylandCollege Park',\n       'University of MarylandUniversity College', 'Baker College',\n       'Central Michigan University', 'Davenport University',\n       'Eastern Michigan University', 'Grand Valley State University',\n       'Michigan State University', 'Michigan Technological University',\n       'Oakland University', 'University of MichiganAnn Arbor',\n       'University of MichiganDearborn', 'Capella University',\n       'The College of Saint Scholastica', 'University of Minnesota',\n       'University of MinnesotaDuluth', 'University of St Thomas',\n       'Winona State University', 'Grantham University',\n       'Missouri University of Science and Technology',\n       'Rockhurst University', 'Saint Louis University',\n       'Saint Louis UniversityMain Campus',\n       'University of MissouriSt Louis', 'Jackson State University',\n       'University of Montana', 'Elon University',\n       'North Carolina State University at Raleigh',\n       'University of North Carolina at Chapel Hill',\n       'University of North Carolina at Charlotte',\n       'University of North Carolina at Greensboro',\n       'Wake forest University', 'Bellevue University',\n       'Creighton University', 'Nebraska College of Technical Agriculture',\n       'University of Nebraska at Omaha',\n       'Southern New Hampshire University',\n       'New Jersey Institute of Technology', 'Rutgers University',\n       'Saint Peters University', 'Stevens Institute of Technology',\n       'Thomas Edison State College', 'University of NevadaReno',\n       'Columbia University in the City of New York', 'Cornell University',\n       'CUNY Bernard M Baruch College',\n       'CUNY Graduate School and University Center', 'CUNY Queens College',\n       'Fordham University', 'Keller Graduate School of Management',\n       'Marist College', 'New York University', 'Pace UniversityNew York',\n       'Rensselaer Polytechnic Institute', 'St Johns UniversityNew York',\n       'Syracuse University', 'The New School', 'Trocaire College',\n       'Union Graduate College', 'University at Buffalo',\n       'University of Rochester', 'Bowling Green State University',\n       'Case Western Reserve University', 'Cleveland State University',\n       'Miami University of Ohio', 'Notre Dame College', 'Ohio University',\n       'The Ohio State University', 'University of CincinnatiMain Campus',\n       'Oklahoma State University Center for Health Sciences',\n       'Southwestern Oklahoma State University',\n       'University of Oklahoma Norman Campus', 'Oregon State University',\n       'Albright College', 'Carnegie Mellon University',\n       'Drexel University',\n       'Harrisburg University of Science and Technology',\n       'La Salle University', 'Misericordia University',\n       'Pennsylvania State University', 'Philadelphia University',\n       'Saint Josephs University', 'Temple University',\n       'University of PittsburghBradford',\n       'University of PittsburghPittsburgh Campus', 'Villanova University',\n       'Brown University', 'College of Charleston',\n       'Medical University of South Carolina',\n       'University of South CarolinaColumbia', 'Dakota State University',\n       'South Dakota State University', 'Austin Peay State University',\n       'Middle Tennessee State University',\n       'Tennessee Technological University', 'The University of Tennessee',\n       'The University of Tennessee at Chattanooga',\n       'University of Memphis', 'Southern Methodist University',\n       'St Marys University', 'Tarleton State University',\n       'Texas A  M UniversityCollege Station',\n       'The University of Texas at Austin',\n       'The University of Texas at Dallas',\n       'The University of Texas at San Antonio', 'University of Dallas',\n       'University of North Texas', 'University of Utah',\n       'George Mason University', 'Radford University',\n       'University of Virginia', 'Virginia Commonwealth University',\n       'Virginia Polytechnic Institute and State University',\n       'Statisticscom', 'Bellevue College', 'City University of Seattle',\n       'Seattle University', 'University of WashingtonSeattle Campus',\n       'University of WashingtonTacoma Campus',\n       'University of WisconsinMadison',\n       'University of Wisconsin Colleges',\n       'University of WisconsinMilwaukee', 'West Virginia University',\n       'Ukrainian Catholic Univeristy', 'Sabanc University',\n       'National University of Singapore', 'Dalarna University',\n       'Blekinge Institute of Technology',\n       'Kth Royal Institute Of Technology', 'Linkping University',\n       'Universidade Nova de Lisboa', 'University of Otago',\n       'Massey University', 'Erasmus University', 'Maastricht University',\n       'Radboud Universiteit Nijmegen',\n       'Eindhoven University of TechnologyTUe', 'Utrecht University',\n       'Vrije Universiteit Amsterdam',\n       'Autonomous Technological Institute of Mexico',\n       'Mykolas Romeris University', 'Sangmyung University', 'BAICR',\n       'Polytechnic University Of Turin', 'University Of MilanBicocca',\n       'University Of Pisa', 'BenGurion University Of The Negev',\n       'Dublin City University', 'Dublin Institute Of Technology',\n       'Institute Of Technology Blanchardstown',\n       'Irish Management Institute', 'National College Of Ireland',\n       'National University Of Ireland Galway', 'University College Cork',\n       'University College Dublin', 'Chinese University of Hong Kong',\n       'Hong Kong University of Science  Technology',\n       'Lancaster University', 'Aston University',\n       'Birmingham City University', 'Bournemouth University',\n       'Brunel University London', 'City University London',\n       'Coventry University', 'De Montfort University',\n       'Goldsmiths University of London', 'Imperial College London',\n       'Leeds Met', 'Newcastle University', 'Robert Gordon University',\n       'Royal Holloway University Of London',\n       'Sheffield Hallam University', 'The University Of Edinburgh',\n       'The University Of Manchester', 'University College London',\n       'University Of Bristol', 'University of Derby',\n       'University of Dundee', 'University Of East Anglia',\n       'University Of East London', 'University Of Essex',\n       'University Of Greenwich', 'University of Kent',\n       'University Of Leeds', 'University of Leicester',\n       'University Of Liverpool', 'University of Manchester',\n       'University of Nottingham', 'University of Southampton',\n       'University Of St Andrews', 'University of Strathclyde',\n       'University of Surrey', 'University of Warwick',\n       'University Of Warwick', 'University Of Westminster',\n       'Data ScienceTech Institute', 'EISTI', 'ENSAE Paris Tech',\n       'Telecom Paris Tech', 'Telecom Sudparis',\n       'Universit Pierre Et Marie Curie', 'Aalto University',\n       'University Of Helsinki', 'Universit De Nantes',\n       'Barcelona School of Management', 'Instituto de Empresa',\n       'Universidad Rey Juan Carlos', 'Universitat Pompeu Fabra',\n       'Universities Of Alicante', 'University of Barcelona',\n       'University of Oviedo', 'Aalborg University', 'Aarhus University',\n       'Technical University of Denmark',\n       'Otto Von Guericke University Magdeburg', 'TU Dortmund',\n       'Universitt Konstanz', 'Queens University',\n       'Simon Fraser University', 'University Of Alberta',\n       'University of the Fraser Valley', 'York University',\n       'Mackenzie Presbyterian Institute', 'Deakin University',\n       'Macquarie University', 'University of South Australia',\n       'University of Technology Sydney',\n       'Vienna University of Economics and Business',\n       'University of Vienna']"
 },
 {
  "cell_type": "code",
  "execution_count": null,
  "metadata": {
   "collapsed": false
  },
  "outputs": [],
  "source": "programs = [re.sub(r'[^a-zA-Z\\s0-9]+', '', string) for string in programs]"
 },
 {
  "cell_type": "markdown",
  "metadata": {},
  "source": "fuzzy matching once again:"
 },
 {
  "cell_type": "code",
  "execution_count": null,
  "metadata": {
   "collapsed": false
  },
  "outputs": [],
  "source": "def check_for_master(university):\n    for program in programs:\n        similarity = is_fuzzy_match(university, program)\n        if (similarity):\n            return True"
 },
 {
  "cell_type": "code",
  "execution_count": null,
  "metadata": {
   "collapsed": false
  },
  "outputs": [],
  "source": "data['ds_master'] = data['university_name'].apply(check_for_master)"
 },
 {
  "cell_type": "code",
  "execution_count": null,
  "metadata": {
   "collapsed": false
  },
  "outputs": [],
  "source": "universities_with_ds_program = data[data['ds_master'] == True]"
 },
 {
  "cell_type": "code",
  "execution_count": null,
  "metadata": {
   "collapsed": false
  },
  "outputs": [],
  "source": "universities_with_ds_program.head(n=20)"
 },
 {
  "cell_type": "code",
  "execution_count": null,
  "metadata": {
   "collapsed": false
  },
  "outputs": [],
  "source": "universities_with_ds_program.to_csv('DSDegrees.csv', sep = ',')"
 },
 {
  "cell_type": "markdown",
  "metadata": {},
  "source": "## further steps\n\n\n- improve fuzzy string matching (especially functions)\n- use more information than just total score\n- use weights to include personal preference\n"
 },
 {
  "cell_type": "code",
  "execution_count": null,
  "metadata": {
   "collapsed": false
  },
  "outputs": [],
  "source": ""
 }
],"metadata":{"kernelspec":{"display_name":"Python 3","language":"python","name":"python3"}}, "nbformat": 4, "nbformat_minor": 0}
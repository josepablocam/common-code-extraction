{
  "cells": [
    {
      "cell_type": "code",
      "execution_count": null,
      "metadata": {
        "_cell_guid": "13917cb3-7684-cf91-8fac-2e707890e487"
      },
      "outputs": [],
      "source": [
        "# This Python 3 environment comes with many helpful analytics libraries installed\n",
        "# It is defined by the kaggle/python docker image: https://github.com/kaggle/docker-python\n",
        "# For example, here's several helpful packages to load in \n",
        "\n",
        "import numpy as np # linear algebra\n",
        "import pandas as pd # data processing, CSV file I/O (e.g. pd.read_csv)\n",
        "\n",
        "# Input data files are available in the \"../input/\" directory.\n",
        "# For example, running this (by clicking run or pressing Shift+Enter) will list the files in the input directory\n",
        "\n",
        "from subprocess import check_output\n",
        "print(check_output([\"ls\", \"../input\"]).decode(\"utf8\"))\n",
        "\n",
        "# Any results you write to the current directory are saved as output."
      ]
    },
    {
      "cell_type": "code",
      "execution_count": null,
      "metadata": {
        "_cell_guid": "b2f7734c-f8c3-55a4-bf74-8c7149c414a8"
      },
      "outputs": [],
      "source": [
        "cwur = pd.read_csv('../input/cwurData.csv')\n",
        "#education_expenditure_supplementary_data = pd.read_csv('../input/education_expenditure_supplementary_data.csv')\n",
        "educational_attainment_supplementary_data = pd.read_csv('../input/educational_attainment_supplementary_data.csv')\n",
        "school_and_country_table = pd.read_csv('../input/school_and_country_table.csv')\n",
        "shanghaiData = pd.read_csv('../input/shanghaiData.csv')\n",
        "timesData = pd.read_csv('../input/timesData.csv')"
      ]
    },
    {
      "cell_type": "code",
      "execution_count": null,
      "metadata": {
        "_cell_guid": "459b34c9-6573-3afb-20da-05a741dbc8f3"
      },
      "outputs": [],
      "source": [
        "cwur.head(2)"
      ]
    },
    {
      "cell_type": "code",
      "execution_count": null,
      "metadata": {
        "_cell_guid": "85b825f1-f3f3-cd2a-7714-49dfe3efe5fc"
      },
      "outputs": [],
      "source": [
        "educational_attainment_supplementary_data.head(2)"
      ]
    },
    {
      "cell_type": "code",
      "execution_count": null,
      "metadata": {
        "_cell_guid": "985aeaf5-0be6-8303-7ec5-41d10a5ca460"
      },
      "outputs": [],
      "source": [
        "shanghaiData.head(2)"
      ]
    },
    {
      "cell_type": "code",
      "execution_count": null,
      "metadata": {
        "_cell_guid": "3be4bd8a-fecc-e363-3e55-f300e4a71196"
      },
      "outputs": [],
      "source": [
        "timesData.head(2)"
      ]
    },
    {
      "cell_type": "code",
      "execution_count": null,
      "metadata": {
        "_cell_guid": "10dd32be-927c-7bc4-7e89-928b04760721"
      },
      "outputs": [],
      "source": ""
    }
  ],
  "metadata": {
    "_change_revision": 0,
    "_is_fork": false,
    "kernelspec": {
      "display_name": "Python 3",
      "language": "python",
      "name": "python3"
    },
    "language_info": {
      "codemirror_mode": {
        "name": "ipython",
        "version": 3
      },
      "file_extension": ".py",
      "mimetype": "text/x-python",
      "name": "python",
      "nbconvert_exporter": "python",
      "pygments_lexer": "ipython3",
      "version": "3.5.2"
    }
  },
  "nbformat": 4,
  "nbformat_minor": 0
}
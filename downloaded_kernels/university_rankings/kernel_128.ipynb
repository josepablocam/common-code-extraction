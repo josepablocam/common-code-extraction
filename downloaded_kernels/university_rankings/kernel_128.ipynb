{"cells":[
 {
  "cell_type": "code",
  "execution_count": null,
  "metadata": {
   "collapsed": false
  },
  "outputs": [],
  "source": "# This Python 3 environment comes with many helpful analytics libraries installed\n# It is defined by the kaggle/python docker image: https://github.com/kaggle/docker-python\n# For example, here's several helpful packages to load in \n\nimport numpy as np # linear algebra\nimport pandas as pd # data processing, CSV file I/O (e.g. pd.read_csv)\n\n# Input data files are available in the \"../input/\" directory.\n# For example, running this (by clicking run or pressing Shift+Enter) will list the files in the input directory\n\nfrom subprocess import check_output\nprint(check_output([\"ls\", \"../input\"]).decode(\"utf8\"))\n\n# Any results you write to the current directory are saved as output."
 },
 {
  "cell_type": "code",
  "execution_count": null,
  "metadata": {
   "collapsed": false
  },
  "outputs": [],
  "source": "# Loading the dataset's\ntimesData= pd.read_csv(\"../input/timesData.csv\")\nshanghaiData= pd.read_csv(\"../input/shanghaiData.csv\")\nschcntryData= pd.read_csv(\"../input/school_and_country_table.csv\")\nedusupplmData=pd.read_csv(\"../input/educational_attainment_supplementary_data.csv\")\n"
 },
 {
  "cell_type": "code",
  "execution_count": null,
  "metadata": {
   "collapsed": false
  },
  "outputs": [],
  "source": "#Determine the number of rows and columns in the dataset's\nprint (\"Times Data = \",timesData.shape)\nprint (\"Shanghai Data = \",shanghaiData.shape)\nprint (\"school and country table Data = \",schcntryData.shape)\nprint (\"educational attainment supplementary Data = \",edusupplmData.shape)"
 },
 {
  "cell_type": "code",
  "execution_count": null,
  "metadata": {
   "collapsed": false
  },
  "outputs": [],
  "source": "# Print the column headers/headings\nnames=timesData.columns.values\nprint (\"Times Data\\n\",names)\nprint (\"--------------------\\n\")\nnames=shanghaiData.columns.values\nprint (\"Shanghai Data\\n\",names)\nprint (\"--------------------\\n\")\nnames=schcntryData.columns.values\nprint (\"School and Country Data\\n\",names)\nprint (\"--------------------\\n\")\nnames=edusupplmData.columns.values\nprint (\"Educational Attainment Supplementary Data\\n\",names)\nprint (\"--------------------\\n\")"
 },
 {
  "cell_type": "code",
  "execution_count": null,
  "metadata": {
   "collapsed": false
  },
  "outputs": [],
  "source": "# print the rows with missing data\nprint (\"The count of rows with missing values in Times data: \\n\", timesData.isnull().sum())"
 },
 {
  "cell_type": "code",
  "execution_count": null,
  "metadata": {
   "collapsed": false
  },
  "outputs": [],
  "source": "print (\"The count of rows with missing values in Shanghai data: \\n\", shanghaiData.isnull().sum())"
 },
 {
  "cell_type": "code",
  "execution_count": null,
  "metadata": {
   "collapsed": false
  },
  "outputs": [],
  "source": "print (\"The count of rows with missing values in School and Country data: \\n\", schcntryData.isnull().sum())"
 },
 {
  "cell_type": "code",
  "execution_count": null,
  "metadata": {
   "collapsed": false
  },
  "outputs": [],
  "source": "print (\"The count of rows with missing values in Educational Attainment Supplementary data: \\n\", edusupplmData.isnull().sum())"
 },
 {
  "cell_type": "code",
  "execution_count": null,
  "metadata": {
   "collapsed": false
  },
  "outputs": [],
  "source": "# Creating a copy of the original dataset's as cpy*. All experiments will be done on the copies\ncpyTimes=timesData \ncpyShanghai=shanghaiData \ncpySchCnt=schcntryData \ncpyEduSup=edusupplmData"
 },
 {
  "cell_type": "code",
  "execution_count": null,
  "metadata": {
   "collapsed": false
  },
  "outputs": [],
  "source": "# Set the rows with missing data as -1 using the fillna(). \n# school_country_table_data has no missing values as shown above\ncpyTimes=cpyTimes.fillna(-1)\ncpyShanghai=cpyShanghai.fillna(-1)\ncpyEduSup=cpyEduSup.fillna(-1)\n"
 },
 {
  "cell_type": "code",
  "execution_count": null,
  "metadata": {
   "collapsed": false
  },
  "outputs": [],
  "source": "# Checking for missing values again\nprint (cpyTimes.isnull().sum())\nprint (\"\\n----------\\n\")\nprint (cpyShanghai.isnull().sum())\nprint (\"\\n----------\\n\")\nprint (cpySchCnt.isnull().sum())\nprint (\"\\n----------\\n\")\nprint (cpyEduSup.isnull().sum())\nprint (\"\\n----------\\n\")"
 },
 {
  "cell_type": "code",
  "execution_count": null,
  "metadata": {
   "collapsed": false
  },
  "outputs": [],
  "source": "# Show the Frequency distribution\nprint (\"\\n Schools around the world as per the school country table data\")\nprint(\"\\n----------------------------------------------------------------\\n\")\nworldSchools=cpySchCnt['school_name'].value_counts(sort=True,dropna=False)\nprint (worldSchools)\nprint(\"\\n------------------------------------------------\\n\")\nworldSchCntry=cpySchCnt['country'].value_counts(sort=True,dropna=False)\nprint (worldSchCntry)"
 },
 {
  "cell_type": "code",
  "execution_count": null,
  "metadata": {
   "collapsed": false
  },
  "outputs": [],
  "source": "# Show the frequency distribution for the Times Data\nprint (\"\\n International student's enrolled as per the Times Data\")\nprint(\"\\n----------------------------------------------------------------\\n\")\nintrStud=cpyTimes['international_students'].value_counts(sort=True,dropna=False)\nprint (intrStud)"
 },
 {
  "cell_type": "code",
  "execution_count": null,
  "metadata": {
   "collapsed": false
  },
  "outputs": [],
  "source": "print (\"\\n Universities World Ranking as per the Shanghai Dataset\\n\")\nwrldRank=cpyShanghai['World Rank'].value_counts(sort=True,dropna=False)\nprint (wrldRank)"
 },
 {
  "cell_type": "code",
  "execution_count": null,
  "metadata": {
   "collapsed": false
  },
  "outputs": [],
  "source": ""
 }
],"metadata":{"kernelspec":{"display_name":"Python 3","language":"python","name":"python3"}}, "nbformat": 4, "nbformat_minor": 0}